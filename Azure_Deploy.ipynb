{
 "cells": [
  {
   "cell_type": "markdown",
   "metadata": {},
   "source": [
    "# Using Azure endpoint for real-time prediction"
   ]
  },
  {
   "cell_type": "code",
   "execution_count": 1,
   "metadata": {},
   "outputs": [
    {
     "name": "stdout",
     "output_type": "stream",
     "text": [
      "{'Results': {'WS_out_loanprediction': [{'loan_amount_000s': 0.3195599961574723, 'msamd': 1.5456175417949056, 'state_code': 1.4398404698939828, 'county_code': 0.6956904422261911, 'census_tract_number': 2.6890976099208435, 'applicant_income_000s': -0.22869205232670953, 'population': 0.768844453635402, 'minority_population': 0.327008141849753, 'hud_median_family_income': 2.420546601884949, 'tract_to_msamd_income': 0.32218639522702314, 'number_of_owner_occupied_units': 0.36953613870723545, 'number_of_1_to_4_family_units': 0.13422610333633317, 'Multiply(hud_median_family_income_tract_to_msamd_income)': 1.6101929281273095, 'agency_code-1': 0.0, 'agency_code-2': 0.0, 'agency_code-3': 0.0, 'agency_code-5': 0.0, 'agency_code-7': 1.0, 'agency_code-9': 0.0, 'loan_type-1': 1.0, 'loan_type-2': 0.0, 'loan_type-3': 0.0, 'loan_type-4': 0.0, 'property_type-1': 1.0, 'property_type-2': 0.0, 'owner_occupancy-1': 0.0, 'owner_occupancy-2': 1.0, 'applicant_ethnicity-1': 0.0, 'applicant_ethnicity-2': 1.0, 'applicant_race_1-1': 0.0, 'applicant_race_1-2': 1.0, 'applicant_race_1-3': 0.0, 'applicant_race_1-4': 0.0, 'applicant_race_1-5': 0.0, 'applicant_sex-1': 0.0, 'applicant_sex-2': 1.0, 'lien_status-1': 1.0, 'lien_status-2': 0.0, 'lien_status-3': 0.0, 'Scored Labels': 0.0, 'Scored Probabilities': 0.42826116041415646}]}}\n"
     ]
    }
   ],
   "source": [
    "endpoint = '' #Replace with your endpoint\n",
    "key = '' #Replace with your key\n",
    "\n",
    "import urllib.request\n",
    "import json\n",
    "import os\n",
    "\n",
    "data = {\n",
    "    \"Inputs\": {\n",
    "        \"WebServiceInput0\":\n",
    "        [\n",
    "            {\n",
    "                'agency_code': \"7\",\n",
    "                'loan_type': \"1\",\n",
    "                'property_type': \"1\",\n",
    "                'owner_occupancy': \"2\",\n",
    "                'loan_amount_000s': \"418\",\n",
    "                'msamd': \"47894\",\n",
    "                'state_code': \"51\",\n",
    "                'county_code': \"153\",\n",
    "                'census_tract_number': \"9014.1\",\n",
    "                'applicant_ethnicity': \"2\",\n",
    "                'applicant_race_1': \"2\",\n",
    "                'applicant_sex': \"2\",\n",
    "                'applicant_income_000s': \"32\",\n",
    "                'lien_status': \"1\",\n",
    "                'population': \"8306\",\n",
    "                'minority_population': \"41.58000183\",\n",
    "                'hud_median_family_income': \"107600\",\n",
    "                'tract_to_msamd_income': \"128.1399994\",\n",
    "                'number_of_owner_occupied_units': \"1832\",\n",
    "                'number_of_1_to_4_family_units': \"2145\",\n",
    "            },\n",
    "        ],\n",
    "    },\n",
    "    \"GlobalParameters\": {\n",
    "    }\n",
    "}\n",
    "\n",
    "body = str.encode(json.dumps(data))\n",
    "\n",
    "\n",
    "headers = {'Content-Type':'application/json', 'Authorization':('Bearer '+ key)}\n",
    "\n",
    "req = urllib.request.Request(endpoint, body, headers)\n",
    "\n",
    "try:\n",
    "    response = urllib.request.urlopen(req)\n",
    "    result = response.read()\n",
    "    json_result = json.loads(result)\n",
    "    #output = json_result[\"Results\"][\"WebServiceOutput0\"][0]\n",
    "    print(json_result)\n",
    "\n",
    "except urllib.error.HTTPError as error:\n",
    "    print(\"The request failed with status code: \" + str(error.code))\n",
    "\n",
    "    # Print the headers to help debug\n",
    "    print(error.info())\n",
    "    print(json.loads(error.read().decode(\"utf8\", 'ignore')))"
   ]
  },
  {
   "cell_type": "code",
   "execution_count": null,
   "metadata": {},
   "outputs": [],
   "source": []
  }
 ],
 "metadata": {
  "kernelspec": {
   "display_name": "Python 3",
   "language": "python",
   "name": "python3"
  },
  "language_info": {
   "codemirror_mode": {
    "name": "ipython",
    "version": 3
   },
   "file_extension": ".py",
   "mimetype": "text/x-python",
   "name": "python",
   "nbconvert_exporter": "python",
   "pygments_lexer": "ipython3",
   "version": "3.8.1"
  }
 },
 "nbformat": 4,
 "nbformat_minor": 4
}
