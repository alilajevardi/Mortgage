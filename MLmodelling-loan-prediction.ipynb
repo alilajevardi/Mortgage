{
 "cells": [
  {
   "cell_type": "markdown",
   "metadata": {},
   "source": [
    "# DAIDEC challange"
   ]
  },
  {
   "cell_type": "markdown",
   "metadata": {},
   "source": [
    "# Machine Learning Modelling\n",
    "For the creation of the binary classifier, various algorithms were tested such as Logistic Regression, K-Nearest Neighbors and Support Vector Machines. However, their accuracy were below 70%.\n",
    "\n",
    "The highest accuracy (about ~73%) cames from the XGBoost clasifier that is mentioned here. \n",
    "\n",
    "The XGBoost Classifier wes used for the modelling along with the scikit-earn library for data preprocessing, metrics and model selection. \n",
    "\n",
    "The one-hot encoding was applied to low-cardinality categorical features, as it is typical in machine learning. The high-cardinality features were dealt like numerical data.\n",
    "\n",
    "The StandardScaler function was used to to scale numerical features. \n",
    "\n",
    "The train_test_split function was employed to split the dataset.\n"
   ]
  },
  {
   "cell_type": "code",
   "execution_count": 1,
   "metadata": {},
   "outputs": [],
   "source": [
    "import pandas as pd\n",
    "import numpy as np\n",
    "import joblib\n",
    "import seaborn as sns\n",
    "import matplotlib.pyplot as plt\n",
    "\n",
    "from sklearn import metrics\n",
    "from sklearn.metrics import confusion_matrix\n",
    "from sklearn.model_selection import train_test_split\n",
    "from sklearn.preprocessing import StandardScaler\n",
    "#from sklearn.ensemble import GradientBoostingClassifier, RandomForestClassifier\n",
    "import xgboost as xgb\n"
   ]
  },
  {
   "cell_type": "code",
   "execution_count": 2,
   "metadata": {},
   "outputs": [
    {
     "data": {
      "text/plain": [
       "agency_code                       6944633\n",
       "loan_type                         6944633\n",
       "property_type                     6944633\n",
       "owner_occupancy                   6944633\n",
       "loan_amount_000s                  6944633\n",
       "action_taken                      6944633\n",
       "msamd                             6944633\n",
       "state_code                        6944633\n",
       "county_code                       6944633\n",
       "census_tract_number               6944633\n",
       "applicant_ethnicity               6944633\n",
       "applicant_race_1                  6944633\n",
       "applicant_sex                     6944633\n",
       "applicant_income_000s             6944633\n",
       "lien_status                       6944633\n",
       "population                        6944633\n",
       "minority_population               6944633\n",
       "hud_median_family_income          6944633\n",
       "tract_to_msamd_income             6944633\n",
       "number_of_owner_occupied_units    6944633\n",
       "number_of_1_to_4_family_units     6944633\n",
       "dtype: int64"
      ]
     },
     "execution_count": 2,
     "metadata": {},
     "output_type": "execute_result"
    }
   ],
   "source": [
    "dataset_0 = pd.read_csv('clean_dataset.csv')\n",
    "dataset_0.count()"
   ]
  },
  {
   "cell_type": "code",
   "execution_count": 3,
   "metadata": {},
   "outputs": [],
   "source": [
    "cat_cols_few = [\"loan_type\", \"property_type\", \"owner_occupancy\", \"agency_code\", \n",
    "                \"lien_status\", \"applicant_ethnicity\", \"applicant_race_1\", \"applicant_sex\"] \n",
    "\n",
    "dataset_0 = pd.get_dummies(dataset_0, columns = cat_cols_few)\n",
    "\n",
    "\n"
   ]
  },
  {
   "cell_type": "code",
   "execution_count": 4,
   "metadata": {},
   "outputs": [],
   "source": [
    "y_train = dataset_0['action_taken']\n",
    "X_train = dataset_0.drop([\"action_taken\"], axis=1)\n"
   ]
  },
  {
   "cell_type": "code",
   "execution_count": 5,
   "metadata": {},
   "outputs": [],
   "source": [
    "X_train[\"tract_family_income\"] = (X_train[\"tract_to_msamd_income\"] /100) * (X_train[\"hud_median_family_income\"])\n"
   ]
  },
  {
   "cell_type": "code",
   "execution_count": 6,
   "metadata": {},
   "outputs": [],
   "source": [
    "X_train, X_test, y_train, y_test = train_test_split(X_train.values, y_train.values, test_size=0.3, random_state=101)\n",
    "\n",
    "scaler = StandardScaler()\n",
    "X_train = scaler.fit_transform(X_train)\n",
    "X_test = scaler.transform(X_test)\n"
   ]
  },
  {
   "cell_type": "code",
   "execution_count": 7,
   "metadata": {},
   "outputs": [],
   "source": [
    "point_X = X_test[0]\n",
    "point_X = np.expand_dims(point_X, axis=0)\n",
    "point_y = y_test[0]\n",
    "point_y = np.expand_dims(point_y, axis=0)\n",
    "\n",
    "np.savetxt(\"test_point.csv\", point_X, delimiter=\",\")\n",
    "np.savetxt(\"test_y.csv\", point_y, delimiter=\",\")"
   ]
  },
  {
   "cell_type": "markdown",
   "metadata": {},
   "source": [
    "To deal with imbalanced dataset, the hyper-parameter of 'scale_pos_weight' needs to be used.\n",
    "The parameter can be feed with ration of rejected (=0) over approved (=1) cases. "
   ]
  },
  {
   "cell_type": "code",
   "execution_count": 8,
   "metadata": {
    "scrolled": false
   },
   "outputs": [
    {
     "name": "stderr",
     "output_type": "stream",
     "text": [
      "/home/adminux/anaconda3/envs/tf2.2/lib/python3.8/site-packages/xgboost/sklearn.py:1146: UserWarning: The use of label encoder in XGBClassifier is deprecated and will be removed in a future release. To remove this warning, do the following: 1) Pass option use_label_encoder=False when constructing XGBClassifier object; and 2) Encode your labels (y) as integers starting with 0, i.e. 0, 1, 2, ..., [num_class - 1].\n",
      "  warnings.warn(label_encoder_deprecation_msg, UserWarning)\n"
     ]
    },
    {
     "name": "stdout",
     "output_type": "stream",
     "text": [
      "[13:28:38] WARNING: ../src/learner.cc:1095: Starting in XGBoost 1.3.0, the default evaluation metric used with the objective 'binary:logistic' was changed from 'error' to 'logloss'. Explicitly set eval_metric if you'd like to restore the old behavior.\n"
     ]
    }
   ],
   "source": [
    "params = {'booster':'gbtree', 'max_delta_step':0, 'min_child_weight':8, 'missing':None, \n",
    "          'random_state':0, 'max_depth':16, 'n_estimators':600, 'learning_rate':0.01, 'colsample_bylevel':1, \n",
    "          'colsample_bytree':0.6, 'gamma':0, 'reg_alpha':0.2, 'reg_lambda':1, 'objective':'binary:logistic', \n",
    "          'eta':0.3, 'scale_pos_weight': 0.2265, 'subsample':0.7, 'seed': None,\n",
    "          'tree_method':'gpu_hist', 'predictor':'gpu_predictor'}\n",
    "\n",
    "\n",
    "model = xgb.XGBClassifier(**params)\n",
    "\n",
    "\n",
    "\n",
    "model.fit(X_train, y_train)\n",
    "prediction = model.predict(X_test)"
   ]
  },
  {
   "cell_type": "code",
   "execution_count": 9,
   "metadata": {},
   "outputs": [
    {
     "name": "stdout",
     "output_type": "stream",
     "text": [
      "The accuracy is: 0.7372868257983383\n",
      "\n",
      "\n",
      "Classification Report:\n",
      "              precision    recall  f1-score   support\n",
      "\n",
      "         0.0       0.36      0.56      0.44    385593\n",
      "         1.0       0.89      0.78      0.83   1697797\n",
      "\n",
      "    accuracy                           0.74   2083390\n",
      "   macro avg       0.63      0.67      0.64   2083390\n",
      "weighted avg       0.79      0.74      0.76   2083390\n",
      "\n"
     ]
    },
    {
     "data": {
      "image/png": "[encoded data removed]",
      "text/plain": [
       "<Figure size 432x288 with 2 Axes>"
      ]
     },
     "metadata": {
      "needs_background": "light"
     },
     "output_type": "display_data"
    }
   ],
   "source": [
    "print('The accuracy is:', metrics.accuracy_score(y_test, prediction))\n",
    "print(\"\\n\")\n",
    "print(\"Classification Report:\")\n",
    "print(metrics.classification_report(y_test, prediction))\n",
    "\n",
    "sns.heatmap(confusion_matrix(y_test, prediction), annot=True)\n",
    "plt.title(\"Confusion Matrix\")\n",
    "plt.show()"
   ]
  },
  {
   "cell_type": "code",
   "execution_count": 10,
   "metadata": {},
   "outputs": [],
   "source": [
    "model_file_name = \"loan-trained-xgboost-model\"\n",
    "model._Booster.save_model(model_file_name)"
   ]
  },
  {
   "cell_type": "code",
   "execution_count": 11,
   "metadata": {},
   "outputs": [
    {
     "name": "stdout",
     "output_type": "stream",
     "text": [
      "loan-trained-xgboost-model\r\n"
     ]
    }
   ],
   "source": [
    "!tar czvf model.tar.gz $model_file_name"
   ]
  },
  {
   "cell_type": "code",
   "execution_count": 12,
   "metadata": {},
   "outputs": [
    {
     "data": {
      "text/plain": [
       "['20210429141500_cfpb_loan.joblib']"
      ]
     },
     "execution_count": 12,
     "metadata": {},
     "output_type": "execute_result"
    }
   ],
   "source": [
    "joblib.dump(model, '20210429141500_cfpb_loan.joblib')"
   ]
  },
  {
   "cell_type": "markdown",
   "metadata": {},
   "source": [
    "As we can see on the classification report, as well as the confusion matrix, the classifier is fairly accurate, but outputs a number of false positive and false  negative values as well."
   ]
  },
  {
   "cell_type": "markdown",
   "metadata": {},
   "source": [
    "# Conclusion\n",
    "The accuracy of the binary classifier is not great, but it could possibly be improved if more useful features were added on the dataset or by exploring the performance of other algorithms and techniques. \n"
   ]
  },
  {
   "cell_type": "code",
   "execution_count": null,
   "metadata": {},
   "outputs": [],
   "source": []
  }
 ],
 "metadata": {
  "kernelspec": {
   "display_name": "Python 3",
   "language": "python",
   "name": "python3"
  },
  "language_info": {
   "codemirror_mode": {
    "name": "ipython",
    "version": 3
   },
   "file_extension": ".py",
   "mimetype": "text/x-python",
   "name": "python",
   "nbconvert_exporter": "python",
   "pygments_lexer": "ipython3",
   "version": "3.8.1"
  }
 },
 "nbformat": 4,
 "nbformat_minor": 1
}
