{
 "cells": [
  {
   "cell_type": "markdown",
   "id": "14ac19ef",
   "metadata": {},
   "source": [
    "# Amazon SageMaker With Trained XGBoost Model\n",
    "\n",
    "Hosting a Pre-Trained Model in Amazon SageMaker XGBoost Algorithm Container"
   ]
  },
  {
   "cell_type": "code",
   "execution_count": 1,
   "id": "68af9834",
   "metadata": {},
   "outputs": [
    {
     "name": "stdout",
     "output_type": "stream",
     "text": [
      "CPU times: user 271 ms, sys: 45.2 ms, total: 317 ms\n",
      "Wall time: 321 ms\n"
     ]
    }
   ],
   "source": [
    "%%time\n",
    "\n",
    "import os\n",
    "import boto3\n",
    "import re\n",
    "import json\n",
    "import pandas as pd\n",
    "from sagemaker import get_execution_role"
   ]
  },
  {
   "cell_type": "code",
   "execution_count": 2,
   "id": "16ad34e0",
   "metadata": {},
   "outputs": [],
   "source": [
    "\n",
    "endpoint_name = 'XGBoostEndpoint-2021-04-27-07-04-43'"
   ]
  },
  {
   "cell_type": "code",
   "execution_count": 3,
   "id": "baf61a2e",
   "metadata": {},
   "outputs": [
    {
     "name": "stdout",
     "output_type": "stream",
     "text": [
      "Status: InService\n"
     ]
    }
   ],
   "source": [
    "sm_client = boto3.client('sagemaker')\n",
    "\n",
    "resp = sm_client.describe_endpoint(EndpointName=endpoint_name)\n",
    "status = resp['EndpointStatus']\n",
    "print(\"Status: \" + status)\n",
    "\n",
    "runtime_client = boto3.client('sagemaker-runtime')"
   ]
  },
  {
   "cell_type": "code",
   "execution_count": 4,
   "id": "8a36e885",
   "metadata": {},
   "outputs": [
    {
     "name": "stdout",
     "output_type": "stream",
     "text": [
      "         as_of_year  agency_code  loan_type  property_type  owner_occupancy  \\\n",
      "7022200        2017            3          1              1                1   \n",
      "\n",
      "         loan_amount_000s  action_taken  msamd  state_code  county_code  ...  \\\n",
      "7022200               585             1  42644          53           33  ...   \n",
      "\n",
      "         applicant_sex  applicant_income_000s  lien_status  population  \\\n",
      "7022200              2                    117            1        5054   \n",
      "\n",
      "         minority_population  hud_median_family_income  tract_to_msamd_income  \\\n",
      "7022200            34.709999                     96000              95.730003   \n",
      "\n",
      "         number_of_owner_occupied_units  number_of_1_to_4_family_units  \\\n",
      "7022200                            1499                           1675   \n",
      "\n",
      "         tract_family_income  \n",
      "7022200         91900.803223  \n",
      "\n",
      "[1 rows x 23 columns]\n",
      "         as_of_year  loan_amount_000s  action_taken  msamd  state_code  \\\n",
      "7022200        2017               585             1  42644          53   \n",
      "\n",
      "         county_code  census_tract_number  applicant_income_000s  population  \\\n",
      "7022200           33                   99                    117        5054   \n",
      "\n",
      "         minority_population  ...  number_of_1_to_4_family_units  \\\n",
      "7022200            34.709999  ...                           1675   \n",
      "\n",
      "         tract_family_income  loan_type_1  property_type_1  owner_occupancy_1  \\\n",
      "7022200         91900.803223            1                1                  1   \n",
      "\n",
      "         agency_code_3  lien_status_1  applicant_ethnicity_2  \\\n",
      "7022200              1              1                      1   \n",
      "\n",
      "         applicant_race_1_5  applicant_sex_2  \n",
      "7022200                   1                1  \n",
      "\n",
      "[1 rows x 23 columns]\n"
     ]
    }
   ],
   "source": [
    "df = pd.read_json('input.json')\n",
    "print(df)\n",
    "cat_cols_few = [\"loan_type\", \"property_type\", \"owner_occupancy\", \"agency_code\", \n",
    "                \"lien_status\", \"applicant_ethnicity\", \"applicant_race_1\", \"applicant_sex\"] \n",
    "\n",
    "print(pd.get_dummies(df, columns = cat_cols_few))"
   ]
  },
  {
   "cell_type": "code",
   "execution_count": 5,
   "id": "5ffae36d",
   "metadata": {},
   "outputs": [],
   "source": [
    "y_test = df['action_taken']\n",
    "X_test = df.drop([\"action_taken\"], axis=1)"
   ]
  },
  {
   "cell_type": "code",
   "execution_count": null,
   "id": "7ba885b2",
   "metadata": {},
   "outputs": [],
   "source": []
  },
  {
   "cell_type": "code",
   "execution_count": 6,
   "id": "29fa9eb6",
   "metadata": {},
   "outputs": [
    {
     "name": "stdout",
     "output_type": "stream",
     "text": [
      "-2.245257779940310894e-01,-1.106398261207008460e+00,1.081772861892804860e+00,-2.970795964231225383e-01,2.943375827454213667e+00,-6.957775243550255728e-02,-4.066429056088091132e-01,-4.934460376701826911e-01,-5.206898252826737128e-01,-1.052816558185312446e-01,1.383134807327869309e-01,9.081868404232940062e-02,5.801412067275250051e-01,-4.350516079838701033e-01,-2.945254733939885461e-01,-1.140646032201983462e-01,1.594972434950011619e-01,-1.594972434950009121e-01,3.079843003489509123e-01,-3.079843003489510789e-01,-1.971527436590640170e-01,-1.758175529644079305e-01,-3.132228098906313374e-01,-3.043723169311758903e-01,9.942744436327647373e-01,-5.859700678893761117e-01,2.871108995510856521e-01,-1.986831176813227684e-01,-1.992351132870562036e-01,-3.654261994588782203e-01,3.654261994588781648e-01,-9.178574644175087338e-02,-2.715227308355318558e-01,-3.098038523218605844e-01,-7.275145742804130233e-02,4.523369375867579145e-01,6.905443954752987779e-01,-6.905443954752987779e-01,-3.288795721866425437e-01\n"
     ]
    }
   ],
   "source": [
    "\n",
    "\n",
    "file_name = 'test_point.csv' #customize to your test file, will be 'mnist.single.test' if use data above\n",
    "\n",
    "with open(file_name, 'r') as f:\n",
    "    payload = f.read().strip()\n",
    "\n",
    "print(payload)\n"
   ]
  },
  {
   "cell_type": "code",
   "execution_count": 7,
   "id": "8a199991",
   "metadata": {},
   "outputs": [
    {
     "name": "stdout",
     "output_type": "stream",
     "text": [
      "Predicted Class Probabilities: {'ResponseMetadata': {'RequestId': '6436a7a6-8194-48f2-930d-92aa695c538d', 'HTTPStatusCode': 200, 'HTTPHeaders': {'x-amzn-requestid': '6436a7a6-8194-48f2-930d-92aa695c538d', 'x-amzn-invoked-production-variant': 'AllTraffic', 'date': 'Thu, 29 Apr 2021 03:40:22 GMT', 'content-type': 'text/csv; charset=utf-8', 'content-length': '18'}, 'RetryAttempts': 0}, 'ContentType': 'text/csv; charset=utf-8', 'InvokedProductionVariant': 'AllTraffic', 'Body': '0.0885649025440216'}.\n",
      "CPU times: user 21.2 ms, sys: 107 µs, total: 21.3 ms\n",
      "Wall time: 176 ms\n"
     ]
    }
   ],
   "source": [
    "%%time\n",
    "response = runtime_client.invoke_endpoint(EndpointName=endpoint_name, \n",
    "                                   ContentType='text/csv', \n",
    "                                   Body=payload)\n",
    "result = response['Body'].read().decode('ascii')\n",
    "response['Body'] = result\n",
    "print('Predicted Class Probabilities: {}.'.format(response))"
   ]
  },
  {
   "cell_type": "code",
   "execution_count": 8,
   "id": "0f9fdc77",
   "metadata": {},
   "outputs": [],
   "source": [
    "file_name = 'test_y.csv' #customize to your test file, will be 'mnist.single.test' if use data above\n",
    "\n",
    "with open(file_name, 'r') as f:\n",
    "    point_y = f.read().strip()"
   ]
  },
  {
   "cell_type": "code",
   "execution_count": 9,
   "id": "3b2e0bb0",
   "metadata": {},
   "outputs": [
    {
     "name": "stdout",
     "output_type": "stream",
     "text": [
      "Predicted Class Label: @ Not accepted.\n",
      "Actual Class Label: @ Approved.\n"
     ]
    }
   ],
   "source": [
    "def lbl(y):\n",
    "    if y == 0:\n",
    "        return '@ Not accepted'\n",
    "    elif y==1:\n",
    "        return '@ Approved'\n",
    "    return 'Unkown'\n",
    "\n",
    "\n",
    "predictedLabel = round(float(result),0)\n",
    "\n",
    "print('Predicted Class Label: {}.'.format(lbl(predictedLabel)))\n",
    "print('Actual Class Label: {}.'.format(lbl(float(point_y))))"
   ]
  },
  {
   "cell_type": "code",
   "execution_count": null,
   "id": "f6fc1f3b",
   "metadata": {},
   "outputs": [],
   "source": []
  }
 ],
 "metadata": {
  "kernelspec": {
   "display_name": "Python 3",
   "language": "python",
   "name": "python3"
  },
  "language_info": {
   "codemirror_mode": {
    "name": "ipython",
    "version": 3
   },
   "file_extension": ".py",
   "mimetype": "text/x-python",
   "name": "python",
   "nbconvert_exporter": "python",
   "pygments_lexer": "ipython3",
   "version": "3.9.4"
  }
 },
 "nbformat": 4,
 "nbformat_minor": 5
}
